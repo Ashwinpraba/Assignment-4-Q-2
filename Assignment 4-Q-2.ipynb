{
 "cells": [
  {
   "cell_type": "markdown",
   "id": "e36b9a6a",
   "metadata": {},
   "source": [
    "# Write a Python program to triple all numbers of a given list of integers. Use Python map."
   ]
  },
  {
   "cell_type": "code",
   "execution_count": 1,
   "id": "ada14d82",
   "metadata": {},
   "outputs": [
    {
     "name": "stdout",
     "output_type": "stream",
     "text": [
      "input--->Enter your list:1 3 5 10 12\n",
      "output--->triples_of_list: [3, 9, 15, 30, 36]\n"
     ]
    }
   ],
   "source": [
    "input_list = list(map(int,input(\"input--->Enter your list:\" ).split()))\n",
    "def triples(x):\n",
    "    return x+x+x\n",
    "triples_of_list = map(triples, input_list)\n",
    "print(\"output--->triples_of_list:\",list(triples_of_list))"
   ]
  },
  {
   "cell_type": "code",
   "execution_count": null,
   "id": "d91b0c3d",
   "metadata": {},
   "outputs": [],
   "source": [
    "input_list = list(map(int,input(\"input--->Enter your list:\" ).split()))\n",
    "def triples(x):\n",
    "    return x+x+x\n",
    "triples_of_list = map(triples, input_list)\n",
    "print(\"output--->triples_of_list:\",list(triples_of_list))"
   ]
  }
 ],
 "metadata": {
  "kernelspec": {
   "display_name": "Python 3 (ipykernel)",
   "language": "python",
   "name": "python3"
  },
  "language_info": {
   "codemirror_mode": {
    "name": "ipython",
    "version": 3
   },
   "file_extension": ".py",
   "mimetype": "text/x-python",
   "name": "python",
   "nbconvert_exporter": "python",
   "pygments_lexer": "ipython3",
   "version": "3.11.3"
  }
 },
 "nbformat": 4,
 "nbformat_minor": 5
}
